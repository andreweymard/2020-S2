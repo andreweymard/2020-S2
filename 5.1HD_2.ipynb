{
 "cells": [
  {
   "cell_type": "code",
   "execution_count": 2,
   "metadata": {},
   "outputs": [],
   "source": [
    "import time\n",
    "import pandas as pd\n",
    "import numpy as numpy\n",
    "import matplotlib.pyplot as plt\n",
    "from sklearn.model_selection import train_test_split\n",
    "from sklearn.ensemble import RandomForestClassifier\n",
    "from sklearn import metrics\n",
    "from sklearn.model_selection import KFold\n",
    "from sklearn.model_selection import cross_validate"
   ]
  },
  {
   "cell_type": "code",
   "execution_count": 2,
   "metadata": {},
   "outputs": [
    {
     "data": {
      "text/html": [
       "<div>\n",
       "<style scoped>\n",
       "    .dataframe tbody tr th:only-of-type {\n",
       "        vertical-align: middle;\n",
       "    }\n",
       "\n",
       "    .dataframe tbody tr th {\n",
       "        vertical-align: top;\n",
       "    }\n",
       "\n",
       "    .dataframe thead th {\n",
       "        text-align: right;\n",
       "    }\n",
       "</style>\n",
       "<table border=\"1\" class=\"dataframe\">\n",
       "  <thead>\n",
       "    <tr style=\"text-align: right;\">\n",
       "      <th></th>\n",
       "      <th>FC1_Read_Input_Register</th>\n",
       "      <th>FC2_Read_Discrete_Value</th>\n",
       "      <th>FC3_Read_Holding_Register</th>\n",
       "      <th>FC4_Read_Coil</th>\n",
       "      <th>current_temperature</th>\n",
       "      <th>door_state</th>\n",
       "      <th>fridge_temperature</th>\n",
       "      <th>humidity</th>\n",
       "      <th>latitude</th>\n",
       "      <th>light_status</th>\n",
       "      <th>longitude</th>\n",
       "      <th>motion_status</th>\n",
       "      <th>pressure</th>\n",
       "      <th>sphone_signal</th>\n",
       "      <th>temp_condition</th>\n",
       "      <th>temperature</th>\n",
       "      <th>thermostat_status</th>\n",
       "      <th>label</th>\n",
       "    </tr>\n",
       "  </thead>\n",
       "  <tbody>\n",
       "    <tr>\n",
       "      <th>0</th>\n",
       "      <td>0.495216</td>\n",
       "      <td>0.499092</td>\n",
       "      <td>0.488897</td>\n",
       "      <td>0.499405</td>\n",
       "      <td>0.344399</td>\n",
       "      <td>0</td>\n",
       "      <td>0.930769</td>\n",
       "      <td>0.462511</td>\n",
       "      <td>0.008217</td>\n",
       "      <td>0</td>\n",
       "      <td>0.008112</td>\n",
       "      <td>0</td>\n",
       "      <td>0.533556</td>\n",
       "      <td>0.666667</td>\n",
       "      <td>0.2</td>\n",
       "      <td>0.517307</td>\n",
       "      <td>1</td>\n",
       "      <td>0</td>\n",
       "    </tr>\n",
       "    <tr>\n",
       "      <th>1</th>\n",
       "      <td>0.495216</td>\n",
       "      <td>0.499092</td>\n",
       "      <td>0.488897</td>\n",
       "      <td>0.499405</td>\n",
       "      <td>0.344399</td>\n",
       "      <td>0</td>\n",
       "      <td>0.588462</td>\n",
       "      <td>0.462511</td>\n",
       "      <td>0.008217</td>\n",
       "      <td>0</td>\n",
       "      <td>0.008112</td>\n",
       "      <td>0</td>\n",
       "      <td>0.533556</td>\n",
       "      <td>0.666667</td>\n",
       "      <td>0.2</td>\n",
       "      <td>0.517307</td>\n",
       "      <td>1</td>\n",
       "      <td>0</td>\n",
       "    </tr>\n",
       "    <tr>\n",
       "      <th>2</th>\n",
       "      <td>0.495216</td>\n",
       "      <td>0.499092</td>\n",
       "      <td>0.488897</td>\n",
       "      <td>0.499405</td>\n",
       "      <td>0.344399</td>\n",
       "      <td>0</td>\n",
       "      <td>0.076923</td>\n",
       "      <td>0.462511</td>\n",
       "      <td>0.008217</td>\n",
       "      <td>0</td>\n",
       "      <td>0.008112</td>\n",
       "      <td>0</td>\n",
       "      <td>0.533556</td>\n",
       "      <td>0.666667</td>\n",
       "      <td>0.8</td>\n",
       "      <td>0.517307</td>\n",
       "      <td>1</td>\n",
       "      <td>0</td>\n",
       "    </tr>\n",
       "    <tr>\n",
       "      <th>3</th>\n",
       "      <td>0.495216</td>\n",
       "      <td>0.499092</td>\n",
       "      <td>0.488897</td>\n",
       "      <td>0.499405</td>\n",
       "      <td>0.344399</td>\n",
       "      <td>0</td>\n",
       "      <td>0.292308</td>\n",
       "      <td>0.462511</td>\n",
       "      <td>0.008217</td>\n",
       "      <td>0</td>\n",
       "      <td>0.008112</td>\n",
       "      <td>0</td>\n",
       "      <td>0.533556</td>\n",
       "      <td>0.666667</td>\n",
       "      <td>0.8</td>\n",
       "      <td>0.517307</td>\n",
       "      <td>1</td>\n",
       "      <td>0</td>\n",
       "    </tr>\n",
       "    <tr>\n",
       "      <th>4</th>\n",
       "      <td>0.495216</td>\n",
       "      <td>0.499092</td>\n",
       "      <td>0.488897</td>\n",
       "      <td>0.499405</td>\n",
       "      <td>0.344399</td>\n",
       "      <td>0</td>\n",
       "      <td>0.746154</td>\n",
       "      <td>0.462511</td>\n",
       "      <td>0.008217</td>\n",
       "      <td>0</td>\n",
       "      <td>0.008112</td>\n",
       "      <td>0</td>\n",
       "      <td>0.533556</td>\n",
       "      <td>0.666667</td>\n",
       "      <td>0.2</td>\n",
       "      <td>0.517307</td>\n",
       "      <td>1</td>\n",
       "      <td>0</td>\n",
       "    </tr>\n",
       "  </tbody>\n",
       "</table>\n",
       "</div>"
      ],
      "text/plain": [
       "   FC1_Read_Input_Register  FC2_Read_Discrete_Value  \\\n",
       "0                 0.495216                 0.499092   \n",
       "1                 0.495216                 0.499092   \n",
       "2                 0.495216                 0.499092   \n",
       "3                 0.495216                 0.499092   \n",
       "4                 0.495216                 0.499092   \n",
       "\n",
       "   FC3_Read_Holding_Register  FC4_Read_Coil  current_temperature  door_state  \\\n",
       "0                   0.488897       0.499405             0.344399           0   \n",
       "1                   0.488897       0.499405             0.344399           0   \n",
       "2                   0.488897       0.499405             0.344399           0   \n",
       "3                   0.488897       0.499405             0.344399           0   \n",
       "4                   0.488897       0.499405             0.344399           0   \n",
       "\n",
       "   fridge_temperature  humidity  latitude  light_status  longitude  \\\n",
       "0            0.930769  0.462511  0.008217             0   0.008112   \n",
       "1            0.588462  0.462511  0.008217             0   0.008112   \n",
       "2            0.076923  0.462511  0.008217             0   0.008112   \n",
       "3            0.292308  0.462511  0.008217             0   0.008112   \n",
       "4            0.746154  0.462511  0.008217             0   0.008112   \n",
       "\n",
       "   motion_status  pressure  sphone_signal  temp_condition  temperature  \\\n",
       "0              0  0.533556       0.666667             0.2     0.517307   \n",
       "1              0  0.533556       0.666667             0.2     0.517307   \n",
       "2              0  0.533556       0.666667             0.8     0.517307   \n",
       "3              0  0.533556       0.666667             0.8     0.517307   \n",
       "4              0  0.533556       0.666667             0.2     0.517307   \n",
       "\n",
       "   thermostat_status  label  \n",
       "0                  1      0  \n",
       "1                  1      0  \n",
       "2                  1      0  \n",
       "3                  1      0  \n",
       "4                  1      0  "
      ]
     },
     "execution_count": 2,
     "metadata": {},
     "output_type": "execute_result"
    }
   ],
   "source": [
    "dataset = pd.read_csv(\"Processed_Combined_IoT_dataset.csv\")\n",
    "dataset.head()"
   ]
  },
  {
   "cell_type": "code",
   "execution_count": 3,
   "metadata": {},
   "outputs": [
    {
     "name": "stdout",
     "output_type": "stream",
     "text": [
      "(401119, 18)\n",
      "['FC1_Read_Input_Register', 'FC2_Read_Discrete_Value', 'FC3_Read_Holding_Register', 'FC4_Read_Coil', 'current_temperature', 'door_state', 'fridge_temperature', 'humidity', 'latitude', 'light_status', 'longitude', 'motion_status', 'pressure', 'sphone_signal', 'temp_condition', 'temperature', 'thermostat_status', 'label']\n"
     ]
    }
   ],
   "source": [
    "print(dataset.shape)\n",
    "print(list(dataset.columns))"
   ]
  },
  {
   "cell_type": "code",
   "execution_count": 4,
   "metadata": {},
   "outputs": [
    {
     "data": {
      "text/plain": [
       "['label']"
      ]
     },
     "execution_count": 4,
     "metadata": {},
     "output_type": "execute_result"
    }
   ],
   "source": [
    "target_cols = list(dataset.columns[-1:])\n",
    "target_cols"
   ]
  },
  {
   "cell_type": "code",
   "execution_count": 5,
   "metadata": {},
   "outputs": [
    {
     "data": {
      "text/plain": [
       "['FC1_Read_Input_Register',\n",
       " 'FC2_Read_Discrete_Value',\n",
       " 'FC3_Read_Holding_Register',\n",
       " 'FC4_Read_Coil',\n",
       " 'current_temperature',\n",
       " 'door_state',\n",
       " 'fridge_temperature',\n",
       " 'humidity',\n",
       " 'latitude',\n",
       " 'light_status',\n",
       " 'longitude',\n",
       " 'motion_status',\n",
       " 'pressure',\n",
       " 'sphone_signal',\n",
       " 'temp_condition',\n",
       " 'temperature',\n",
       " 'thermostat_status']"
      ]
     },
     "execution_count": 5,
     "metadata": {},
     "output_type": "execute_result"
    }
   ],
   "source": [
    "feature_cols = list(dataset.columns[:-1])\n",
    "feature_cols"
   ]
  },
  {
   "cell_type": "code",
   "execution_count": 6,
   "metadata": {},
   "outputs": [],
   "source": [
    "X = dataset.drop('label', axis=1)\n",
    "y = dataset['label']"
   ]
  },
  {
   "cell_type": "code",
   "execution_count": 7,
   "metadata": {},
   "outputs": [
    {
     "data": {
      "text/html": [
       "<div>\n",
       "<style scoped>\n",
       "    .dataframe tbody tr th:only-of-type {\n",
       "        vertical-align: middle;\n",
       "    }\n",
       "\n",
       "    .dataframe tbody tr th {\n",
       "        vertical-align: top;\n",
       "    }\n",
       "\n",
       "    .dataframe thead th {\n",
       "        text-align: right;\n",
       "    }\n",
       "</style>\n",
       "<table border=\"1\" class=\"dataframe\">\n",
       "  <thead>\n",
       "    <tr style=\"text-align: right;\">\n",
       "      <th></th>\n",
       "      <th>FC1_Read_Input_Register</th>\n",
       "      <th>FC2_Read_Discrete_Value</th>\n",
       "      <th>FC3_Read_Holding_Register</th>\n",
       "      <th>FC4_Read_Coil</th>\n",
       "      <th>current_temperature</th>\n",
       "      <th>door_state</th>\n",
       "      <th>fridge_temperature</th>\n",
       "      <th>humidity</th>\n",
       "      <th>latitude</th>\n",
       "      <th>light_status</th>\n",
       "      <th>longitude</th>\n",
       "      <th>motion_status</th>\n",
       "      <th>pressure</th>\n",
       "      <th>sphone_signal</th>\n",
       "      <th>temp_condition</th>\n",
       "      <th>temperature</th>\n",
       "      <th>thermostat_status</th>\n",
       "    </tr>\n",
       "  </thead>\n",
       "  <tbody>\n",
       "    <tr>\n",
       "      <th>0</th>\n",
       "      <td>0.495216</td>\n",
       "      <td>0.499092</td>\n",
       "      <td>0.488897</td>\n",
       "      <td>0.499405</td>\n",
       "      <td>0.344399</td>\n",
       "      <td>0</td>\n",
       "      <td>0.930769</td>\n",
       "      <td>0.462511</td>\n",
       "      <td>0.008217</td>\n",
       "      <td>0</td>\n",
       "      <td>0.008112</td>\n",
       "      <td>0</td>\n",
       "      <td>0.533556</td>\n",
       "      <td>0.666667</td>\n",
       "      <td>0.2</td>\n",
       "      <td>0.517307</td>\n",
       "      <td>1</td>\n",
       "    </tr>\n",
       "    <tr>\n",
       "      <th>1</th>\n",
       "      <td>0.495216</td>\n",
       "      <td>0.499092</td>\n",
       "      <td>0.488897</td>\n",
       "      <td>0.499405</td>\n",
       "      <td>0.344399</td>\n",
       "      <td>0</td>\n",
       "      <td>0.588462</td>\n",
       "      <td>0.462511</td>\n",
       "      <td>0.008217</td>\n",
       "      <td>0</td>\n",
       "      <td>0.008112</td>\n",
       "      <td>0</td>\n",
       "      <td>0.533556</td>\n",
       "      <td>0.666667</td>\n",
       "      <td>0.2</td>\n",
       "      <td>0.517307</td>\n",
       "      <td>1</td>\n",
       "    </tr>\n",
       "    <tr>\n",
       "      <th>2</th>\n",
       "      <td>0.495216</td>\n",
       "      <td>0.499092</td>\n",
       "      <td>0.488897</td>\n",
       "      <td>0.499405</td>\n",
       "      <td>0.344399</td>\n",
       "      <td>0</td>\n",
       "      <td>0.076923</td>\n",
       "      <td>0.462511</td>\n",
       "      <td>0.008217</td>\n",
       "      <td>0</td>\n",
       "      <td>0.008112</td>\n",
       "      <td>0</td>\n",
       "      <td>0.533556</td>\n",
       "      <td>0.666667</td>\n",
       "      <td>0.8</td>\n",
       "      <td>0.517307</td>\n",
       "      <td>1</td>\n",
       "    </tr>\n",
       "    <tr>\n",
       "      <th>3</th>\n",
       "      <td>0.495216</td>\n",
       "      <td>0.499092</td>\n",
       "      <td>0.488897</td>\n",
       "      <td>0.499405</td>\n",
       "      <td>0.344399</td>\n",
       "      <td>0</td>\n",
       "      <td>0.292308</td>\n",
       "      <td>0.462511</td>\n",
       "      <td>0.008217</td>\n",
       "      <td>0</td>\n",
       "      <td>0.008112</td>\n",
       "      <td>0</td>\n",
       "      <td>0.533556</td>\n",
       "      <td>0.666667</td>\n",
       "      <td>0.8</td>\n",
       "      <td>0.517307</td>\n",
       "      <td>1</td>\n",
       "    </tr>\n",
       "    <tr>\n",
       "      <th>4</th>\n",
       "      <td>0.495216</td>\n",
       "      <td>0.499092</td>\n",
       "      <td>0.488897</td>\n",
       "      <td>0.499405</td>\n",
       "      <td>0.344399</td>\n",
       "      <td>0</td>\n",
       "      <td>0.746154</td>\n",
       "      <td>0.462511</td>\n",
       "      <td>0.008217</td>\n",
       "      <td>0</td>\n",
       "      <td>0.008112</td>\n",
       "      <td>0</td>\n",
       "      <td>0.533556</td>\n",
       "      <td>0.666667</td>\n",
       "      <td>0.2</td>\n",
       "      <td>0.517307</td>\n",
       "      <td>1</td>\n",
       "    </tr>\n",
       "  </tbody>\n",
       "</table>\n",
       "</div>"
      ],
      "text/plain": [
       "   FC1_Read_Input_Register  FC2_Read_Discrete_Value  \\\n",
       "0                 0.495216                 0.499092   \n",
       "1                 0.495216                 0.499092   \n",
       "2                 0.495216                 0.499092   \n",
       "3                 0.495216                 0.499092   \n",
       "4                 0.495216                 0.499092   \n",
       "\n",
       "   FC3_Read_Holding_Register  FC4_Read_Coil  current_temperature  door_state  \\\n",
       "0                   0.488897       0.499405             0.344399           0   \n",
       "1                   0.488897       0.499405             0.344399           0   \n",
       "2                   0.488897       0.499405             0.344399           0   \n",
       "3                   0.488897       0.499405             0.344399           0   \n",
       "4                   0.488897       0.499405             0.344399           0   \n",
       "\n",
       "   fridge_temperature  humidity  latitude  light_status  longitude  \\\n",
       "0            0.930769  0.462511  0.008217             0   0.008112   \n",
       "1            0.588462  0.462511  0.008217             0   0.008112   \n",
       "2            0.076923  0.462511  0.008217             0   0.008112   \n",
       "3            0.292308  0.462511  0.008217             0   0.008112   \n",
       "4            0.746154  0.462511  0.008217             0   0.008112   \n",
       "\n",
       "   motion_status  pressure  sphone_signal  temp_condition  temperature  \\\n",
       "0              0  0.533556       0.666667             0.2     0.517307   \n",
       "1              0  0.533556       0.666667             0.2     0.517307   \n",
       "2              0  0.533556       0.666667             0.8     0.517307   \n",
       "3              0  0.533556       0.666667             0.8     0.517307   \n",
       "4              0  0.533556       0.666667             0.2     0.517307   \n",
       "\n",
       "   thermostat_status  \n",
       "0                  1  \n",
       "1                  1  \n",
       "2                  1  \n",
       "3                  1  \n",
       "4                  1  "
      ]
     },
     "execution_count": 7,
     "metadata": {},
     "output_type": "execute_result"
    }
   ],
   "source": [
    "X.head()"
   ]
  },
  {
   "cell_type": "code",
   "execution_count": 8,
   "metadata": {},
   "outputs": [
    {
     "data": {
      "text/plain": [
       "0    0\n",
       "1    0\n",
       "2    0\n",
       "3    0\n",
       "4    0\n",
       "Name: label, dtype: int64"
      ]
     },
     "execution_count": 8,
     "metadata": {},
     "output_type": "execute_result"
    }
   ],
   "source": [
    "y.head()"
   ]
  },
  {
   "cell_type": "code",
   "execution_count": 9,
   "metadata": {},
   "outputs": [],
   "source": [
    "kf = KFold(n_splits=5, shuffle=True, random_state=17)\n",
    "evaluate = ['accuracy', 'precision', 'recall', 'roc_auc', 'f1']"
   ]
  },
  {
   "cell_type": "code",
   "execution_count": 10,
   "metadata": {},
   "outputs": [],
   "source": [
    "clf = RandomForestClassifier(n_estimators=100, random_state=17)\n",
    "scores = cross_validate(clf, X, y, scoring=evaluate ,cv=kf, n_jobs=-1)"
   ]
  },
  {
   "cell_type": "code",
   "execution_count": 11,
   "metadata": {},
   "outputs": [
    {
     "name": "stdout",
     "output_type": "stream",
     "text": [
      "Random Forest classifier results are shown below.\n",
      "Accuracy: 0.87211\n",
      "Precision: 0.90717\n",
      "Recall: 0.74794\n",
      "F1 Score: 0.81989\n",
      "ROC AUC: 0.92770\n",
      "Train Time(s): 274.88\n",
      "Test Time(s): 19.70\n"
     ]
    }
   ],
   "source": [
    "def output():\n",
    "    print(\"Accuracy: {:.5f}\"        .format(scores['test_accuracy'].mean()))\n",
    "    print(\"Precision: {:.5f}\"       .format(scores['test_precision'].mean()))\n",
    "    print(\"Recall: {:.5f}\"          .format(scores['test_recall'].mean()))\n",
    "    print(\"F1 Score: {:.5f}\"        .format(scores['test_f1'].mean()))\n",
    "    print(\"ROC AUC: {:.5f}\"         .format(scores['test_roc_auc'].mean()))\n",
    "    print(\"Train Time(s): {:.2f}\"   .format(scores['fit_time'].mean()))\n",
    "    print(\"Test Time(s): {:.2f}\"   .format(scores['score_time'].mean()))\n",
    "\n",
    "print(\"Random Forest classifier results are shown below.\")\n",
    "output()"
   ]
  },
  {
   "cell_type": "code",
   "execution_count": 12,
   "metadata": {},
   "outputs": [
    {
     "name": "stdout",
     "output_type": "stream",
     "text": [
      "Gaussian Naive Bayes classifier results are shown below.\n",
      "Accuracy: 0.70079\n",
      "Precision: 0.76845\n",
      "Recall: 0.33097\n",
      "F1 Score: 0.46267\n",
      "ROC AUC: 0.64791\n",
      "Train Time(s): 1.08\n",
      "Test Time(s): 0.72\n"
     ]
    }
   ],
   "source": [
    "from sklearn.naive_bayes import GaussianNB\n",
    "clf = GaussianNB()\n",
    "scores = cross_validate(clf, X, y, scoring=evaluate ,cv=kf, n_jobs=-1)\n",
    "print(\"Gaussian Naive Bayes classifier results are shown below.\")\n",
    "output()"
   ]
  },
  {
   "cell_type": "code",
   "execution_count": 13,
   "metadata": {},
   "outputs": [
    {
     "name": "stdout",
     "output_type": "stream",
     "text": [
      "Logistic Regression classifier results are shown below.\n",
      "Accuracy: 0.68841\n",
      "Precision: 0.86143\n",
      "Recall: 0.23766\n",
      "F1 Score: 0.37254\n",
      "ROC AUC: 0.69332\n",
      "Train Time(s): 10.15\n",
      "Test Time(s): 0.35\n"
     ]
    }
   ],
   "source": [
    "from sklearn.linear_model import LogisticRegression\n",
    "clf = LogisticRegression(solver='liblinear')\n",
    "scores = cross_validate(clf, X, y, scoring=evaluate, cv=kf, n_jobs=-1)\n",
    "print(\"Logistic Regression classifier results are shown below.\")\n",
    "output()"
   ]
  },
  {
   "cell_type": "code",
   "execution_count": 15,
   "metadata": {},
   "outputs": [],
   "source": [
    "from sklearn.neighbors import KNeighborsClassifier\n",
    "clf = KNeighborsClassifier(weights=\"distance\")\n",
    "scores = cross_validate(clf, X, y, scoring=evaluate, cv=kf, n_jobs=-1)\n",
    "print(\"k-Nearest Neighbor classifier results are shown below.\")\n",
    "output()"
   ]
  },
  {
   "cell_type": "code",
   "execution_count": null,
   "metadata": {},
   "outputs": [
    {
     "name": "stdout",
     "output_type": "stream",
     "text": [
      "Linear Discriminant Analysis classifier results are shown below.\n",
      "Accuracy: 0.68364\n",
      "Precision: 0.87668\n",
      "Recall: 0.21780\n",
      "F1 Score: 0.34891\n",
      "ROC AUC: 0.67971\n",
      "Train Time(s): 1.49\n",
      "Test Time(s): 0.16\n"
     ]
    }
   ],
   "source": [
    "from sklearn.discriminant_analysis import LinearDiscriminantAnalysis\n",
    "clf = LinearDiscriminantAnalysis(solver='lsqr')\n",
    "scores = cross_validate(clf, X, y, scoring=evaluate, cv=kf, n_jobs=-1)\n",
    "print(\"Linear Discriminant Analysis classifier results are shown below.\")\n",
    "output()"
   ]
  },
  {
   "cell_type": "code",
   "execution_count": null,
   "metadata": {},
   "outputs": [
    {
     "name": "stdout",
     "output_type": "stream",
     "text": [
      "Decision Tree classifier results are shown below.\n",
      "Accuracy: 0.86751\n",
      "Precision: 0.89616\n",
      "Recall: 0.74603\n",
      "F1 Score: 0.81423\n",
      "ROC AUC: 0.89085\n",
      "Train Time(s): 3.18\n",
      "Test Time(s): 0.23\n"
     ]
    }
   ],
   "source": [
    "from sklearn.tree import DecisionTreeClassifier\n",
    "clf = DecisionTreeClassifier(random_state=17)\n",
    "scores = cross_validate(clf, X, y, scoring=evaluate, cv=kf, n_jobs=-1)\n",
    "print(\"Decision Tree classifier results are shown below.\")\n",
    "output()"
   ]
  },
  {
   "cell_type": "code",
   "execution_count": 19,
   "metadata": {},
   "outputs": [
    {
     "data": {
      "image/png": "[encoded data removed]",
      "text/plain": [
       "<Figure size 1080x360 with 1 Axes>"
      ]
     },
     "metadata": {
      "needs_background": "light"
     },
     "output_type": "display_data"
    }
   ],
   "source": [
    "barWidth = 0.17\n",
    "fig = plt.subplots(figsize=(15, 5))\n",
    "\n",
    "Accuracy = [0.87211, 0.70079, 0.68841, 0.84716, 0.68364, 0.86751]\n",
    "Precision = [0.90717, 0.76845, 0.86143, 0.85446, 0.87668, 0.89616]\n",
    "Recall = [0.74794, 0.33097, 0.23766, 0.76716, 0.2178, 0.74603]\n",
    "F_Score = [0.81989, 0.46267, 0.37254, 0.79938, 0.34891, 0.81423]\n",
    "ROC_area = [0.9277, 0.64791, 0.69332, 0.90337, 0.67971, 0.89085]\n",
    "\n",
    "br1 = numpy.arange(len(Accuracy))\n",
    "br2 = [x + barWidth for x in br1]\n",
    "br3 = [x + barWidth for x in br2]\n",
    "br4 = [x + barWidth for x in br3]\n",
    "br5 = [x + barWidth for x in br4]\n",
    "\n",
    "plt.bar(br1, Accuracy, color='r', width=barWidth, edgecolor='grey', label='Accuracy')\n",
    "plt.bar(br2, Precision, color='g', width=barWidth, edgecolor='grey', label='Precision')\n",
    "plt.bar(br3, Recall, color='b', width=barWidth, edgecolor='grey', label='Recall')\n",
    "plt.bar(br4, F_Score, color='purple', width=barWidth, edgecolor='grey', label='F1 Score')\n",
    "plt.bar(br5, ROC_area, color='aqua', width=barWidth, edgecolor='grey', label='ROC area')\n",
    "\n",
    "plt.xlabel('Models', fontweight='bold', fontsize=15)\n",
    "plt.ylabel('Score', fontweight='bold', fontsize=15)\n",
    "plt.xticks([r + barWidth for r in range(len(Accuracy))], ['Random Forest', 'Gaussian NB', 'Logistic Regression', 'kNN', 'LDA', 'Decision Tree'])\n",
    "plt.title(\"Metrics of models in the IoT dataset\")\n",
    "plt.legend(loc=4)\n",
    "plt.show()\n"
   ]
  },
  {
   "cell_type": "code",
   "execution_count": 27,
   "metadata": {},
   "outputs": [
    {
     "data": {
      "image/png": "[encoded data removed]",
      "text/plain": [
       "<Figure size 1080x360 with 1 Axes>"
      ]
     },
     "metadata": {
      "needs_background": "light"
     },
     "output_type": "display_data"
    }
   ],
   "source": [
    "barWidth = 0.17\n",
    "fig = plt.subplots(figsize=(15, 5))\n",
    "\n",
    "train_time = [0, 0.88, 8.74, 1.89, 6.2]\n",
    "test_time = [12.45, 0.58, 0.34, 0.31, 0.53]\n",
    "\n",
    "br1 = numpy.arange(len(train_time))\n",
    "br2 = [x + barWidth for x in br1]\n",
    "\n",
    "plt.bar(br1, train_time, color='r', width=barWidth, edgecolor='grey', label='Test time')\n",
    "plt.bar(br2, test_time, color='g', width=barWidth, edgecolor='grey', label='Train time')\n",
    "\n",
    "plt.xlabel('Models', fontweight='bold', fontsize=15)\n",
    "plt.ylabel('Time', fontweight='bold', fontsize=15)\n",
    "plt.xticks([r + barWidth for r in range(len(train_time))], ['Random Forest', 'Gaussian NB', 'Logistic Regression', 'LDA', 'Decision Tree'])\n",
    "plt.title(\"Time taken for models in the IoT dataset\")\n",
    "plt.legend(loc=1)\n",
    "plt.show()"
   ]
  }
 ],
 "metadata": {
  "kernelspec": {
   "display_name": "Python 3.8.10 64-bit",
   "language": "python",
   "name": "python3"
  },
  "language_info": {
   "codemirror_mode": {
    "name": "ipython",
    "version": 3
   },
   "file_extension": ".py",
   "mimetype": "text/x-python",
   "name": "python",
   "nbconvert_exporter": "python",
   "pygments_lexer": "ipython3",
   "version": "3.8.10"
  },
  "orig_nbformat": 4,
  "vscode": {
   "interpreter": {
    "hash": "916dbcbb3f70747c44a77c7bcd40155683ae19c65e1c03b4aa3499c5328201f1"
   }
  }
 },
 "nbformat": 4,
 "nbformat_minor": 2
}
